{
 "cells": [
  {
   "cell_type": "code",
   "execution_count": null,
   "id": "b0ddfe3f",
   "metadata": {},
   "outputs": [
    {
     "name": "stdout",
     "output_type": "stream",
     "text": [
      "Requirement already satisfied: nltk in c:\\users\\ravik\\appdata\\local\\programs\\python\\python311\\lib\\site-packages (3.8.1)\n",
      "Requirement already satisfied: click in c:\\users\\ravik\\appdata\\local\\programs\\python\\python311\\lib\\site-packages (from nltk) (8.1.7)\n",
      "Requirement already satisfied: joblib in c:\\users\\ravik\\appdata\\local\\programs\\python\\python311\\lib\\site-packages (from nltk) (1.3.2)\n",
      "Requirement already satisfied: regex>=2021.8.3 in c:\\users\\ravik\\appdata\\local\\programs\\python\\python311\\lib\\site-packages (from nltk) (2023.10.3)\n",
      "Requirement already satisfied: tqdm in c:\\users\\ravik\\appdata\\local\\programs\\python\\python311\\lib\\site-packages (from nltk) (4.66.1)\n",
      "Requirement already satisfied: colorama in c:\\users\\ravik\\appdata\\local\\programs\\python\\python311\\lib\\site-packages (from click->nltk) (0.4.6)\n",
      "Note: you may need to restart the kernel to use updated packages.\n"
     ]
    },
    {
     "name": "stderr",
     "output_type": "stream",
     "text": [
      "\n",
      "[notice] A new release of pip is available: 23.2.1 -> 25.0.1\n",
      "[notice] To update, run: python.exe -m pip install --upgrade pip\n"
     ]
    }
   ],
   "source": [
    "#%pip install nltk"
   ]
  },
  {
   "cell_type": "code",
   "execution_count": 2,
   "id": "84974ca3",
   "metadata": {},
   "outputs": [],
   "source": [
    "corpus= ''' I am Ravi Kumar, I am currently pursuing my B Tech from Rajasthan Technical university. I Know languages li\n",
    "Like C, CPP, Java, Python also i have practical experience with DSA, ML ! i have done internships also.'''"
   ]
  },
  {
   "cell_type": "code",
   "execution_count": 3,
   "id": "e0fcee8f",
   "metadata": {},
   "outputs": [
    {
     "name": "stdout",
     "output_type": "stream",
     "text": [
      " I am Ravi Kumar, I am currently pursuing my B Tech from Rajasthan Technical university. I Know languages li\n",
      "Like C, CPP, Java, Python also i have practical experience with DSA, ML ! i have done internships also.\n"
     ]
    }
   ],
   "source": [
    "print(corpus)"
   ]
  },
  {
   "cell_type": "code",
   "execution_count": 4,
   "id": "c83794d4",
   "metadata": {},
   "outputs": [],
   "source": [
    "## Tokenisation\n",
    "## Paragraph ---->>> Sentence/ Corpus--> Documents\n",
    "\n",
    "from nltk.tokenize import sent_tokenize"
   ]
  },
  {
   "cell_type": "code",
   "execution_count": 7,
   "id": "24fb6e7e",
   "metadata": {},
   "outputs": [
    {
     "data": {
      "text/plain": [
       "list"
      ]
     },
     "execution_count": 7,
     "metadata": {},
     "output_type": "execute_result"
    }
   ],
   "source": [
    "documents=sent_tokenize(corpus)\n",
    "type(documents)"
   ]
  },
  {
   "cell_type": "code",
   "execution_count": 8,
   "id": "d4b36493",
   "metadata": {},
   "outputs": [
    {
     "name": "stdout",
     "output_type": "stream",
     "text": [
      " I am Ravi Kumar, I am currently pursuing my B Tech from Rajasthan Technical university.\n",
      "I Know languages li\n",
      "Like C, CPP, Java, Python also i have practical experience with DSA, ML !\n",
      "i have done internships also.\n"
     ]
    }
   ],
   "source": [
    "for sentence in documents:\n",
    "    print(sentence)"
   ]
  },
  {
   "cell_type": "code",
   "execution_count": 9,
   "id": "8bf7245b",
   "metadata": {},
   "outputs": [],
   "source": [
    "## Tokenisation\n",
    "## Paragraph ---> Words\n",
    "## Sentence --->> Words\n",
    "\n",
    "from nltk.tokenize import word_tokenize"
   ]
  },
  {
   "cell_type": "code",
   "execution_count": 10,
   "id": "34ab2171",
   "metadata": {},
   "outputs": [
    {
     "data": {
      "text/plain": [
       "['I',\n",
       " 'am',\n",
       " 'Ravi',\n",
       " 'Kumar',\n",
       " ',',\n",
       " 'I',\n",
       " 'am',\n",
       " 'currently',\n",
       " 'pursuing',\n",
       " 'my',\n",
       " 'B',\n",
       " 'Tech',\n",
       " 'from',\n",
       " 'Rajasthan',\n",
       " 'Technical',\n",
       " 'university',\n",
       " '.',\n",
       " 'I',\n",
       " 'Know',\n",
       " 'languages',\n",
       " 'li',\n",
       " 'Like',\n",
       " 'C',\n",
       " ',',\n",
       " 'CPP',\n",
       " ',',\n",
       " 'Java',\n",
       " ',',\n",
       " 'Python',\n",
       " 'also',\n",
       " 'i',\n",
       " 'have',\n",
       " 'practical',\n",
       " 'experience',\n",
       " 'with',\n",
       " 'DSA',\n",
       " ',',\n",
       " 'ML',\n",
       " '!',\n",
       " 'i',\n",
       " 'have',\n",
       " 'done',\n",
       " 'internships',\n",
       " 'also',\n",
       " '.']"
      ]
     },
     "execution_count": 10,
     "metadata": {},
     "output_type": "execute_result"
    }
   ],
   "source": [
    "word_tokenize(corpus)"
   ]
  },
  {
   "cell_type": "code",
   "execution_count": 11,
   "id": "1704a429",
   "metadata": {},
   "outputs": [
    {
     "name": "stdout",
     "output_type": "stream",
     "text": [
      "['I', 'am', 'Ravi', 'Kumar', ',', 'I', 'am', 'currently', 'pursuing', 'my', 'B', 'Tech', 'from', 'Rajasthan', 'Technical', 'university', '.']\n",
      "['I', 'Know', 'languages', 'li', 'Like', 'C', ',', 'CPP', ',', 'Java', ',', 'Python', 'also', 'i', 'have', 'practical', 'experience', 'with', 'DSA', ',', 'ML', '!']\n",
      "['i', 'have', 'done', 'internships', 'also', '.']\n"
     ]
    }
   ],
   "source": [
    "for sentence in documents:\n",
    "    print(word_tokenize(sentence))"
   ]
  },
  {
   "cell_type": "code",
   "execution_count": 12,
   "id": "f3938f58",
   "metadata": {},
   "outputs": [
    {
     "data": {
      "text/plain": [
       "['this', 'is', 'Ravi', \"'\", 's', 'Laptop']"
      ]
     },
     "execution_count": 12,
     "metadata": {},
     "output_type": "execute_result"
    }
   ],
   "source": [
    "# wordpunct tokensise even the punctuation like Ravi's it tokensise the appostrophy also\n",
    "wordfile =''' this is Ravi's Laptop'''\n",
    "from nltk.tokenize import wordpunct_tokenize\n",
    "wordpunct_tokenize(wordfile)"
   ]
  },
  {
   "cell_type": "code",
   "execution_count": 19,
   "id": "9dfa4c89",
   "metadata": {},
   "outputs": [],
   "source": [
    "from nltk.tokenize import TreebankWordDetokenizer\n",
    "# this doesn't treat full stop as stop word only last full stop is treated in that way"
   ]
  },
  {
   "cell_type": "code",
   "execution_count": 20,
   "id": "a4196ddf",
   "metadata": {},
   "outputs": [],
   "source": [
    "tokenizer= TreebankWordDetokenizer()"
   ]
  },
  {
   "cell_type": "code",
   "execution_count": 21,
   "id": "28d154a9",
   "metadata": {},
   "outputs": [],
   "source": [
    "wf= ''' Hii I am Ravi Kumar. Good to See you Guys Here! Lets Meet Tommorow.'''"
   ]
  },
  {
   "cell_type": "code",
   "execution_count": 22,
   "id": "450938ff",
   "metadata": {},
   "outputs": [
    {
     "data": {
      "text/plain": [
       "'H i i   I   a m   R a v i   K u m a r .   G o o d   t o   S e e   y o u   G u y s   H e r e!   L e t s   M e e t   T o m m o r o w.'"
      ]
     },
     "execution_count": 22,
     "metadata": {},
     "output_type": "execute_result"
    }
   ],
   "source": [
    "tokenizer.tokenize(wf)"
   ]
  }
 ],
 "metadata": {
  "kernelspec": {
   "display_name": "Python 3",
   "language": "python",
   "name": "python3"
  },
  "language_info": {
   "codemirror_mode": {
    "name": "ipython",
    "version": 3
   },
   "file_extension": ".py",
   "mimetype": "text/x-python",
   "name": "python",
   "nbconvert_exporter": "python",
   "pygments_lexer": "ipython3",
   "version": "3.11.7"
  }
 },
 "nbformat": 4,
 "nbformat_minor": 5
}
